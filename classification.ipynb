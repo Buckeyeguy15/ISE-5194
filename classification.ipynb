{
 "metadata": {
  "language_info": {
   "codemirror_mode": {
    "name": "ipython",
    "version": 3
   },
   "file_extension": ".py",
   "mimetype": "text/x-python",
   "name": "python",
   "nbconvert_exporter": "python",
   "pygments_lexer": "ipython3",
   "version": "3.8.5-final"
  },
  "orig_nbformat": 2,
  "kernelspec": {
   "name": "python3",
   "display_name": "Python 3",
   "language": "python"
  }
 },
 "nbformat": 4,
 "nbformat_minor": 2,
 "cells": [
  {
   "cell_type": "code",
   "execution_count": 30,
   "metadata": {},
   "outputs": [],
   "source": [
    "# import libraries\n",
    "import numpy as np\n",
    "import matplotlib.pyplot as plt\n",
    "from sklearn.model_selection import train_test_split\n",
    "from sklearn import metrics\n",
    "from sklearn.datasets import load_digits\n",
    "from sklearn.ensemble import RandomForestClassifier\n",
    "from sklearn.neural_network import MLPClassifier\n",
    "from sklearn.feature_selection import RFE"
   ]
  },
  {
   "cell_type": "code",
   "execution_count": 3,
   "metadata": {},
   "outputs": [],
   "source": [
    "digits = load_digits()"
   ]
  },
  {
   "cell_type": "code",
   "execution_count": 10,
   "metadata": {},
   "outputs": [
    {
     "output_type": "execute_result",
     "data": {
      "text/plain": [
       "(1797, 64)"
      ]
     },
     "metadata": {},
     "execution_count": 10
    }
   ],
   "source": [
    "digits.data.shape"
   ]
  },
  {
   "cell_type": "code",
   "execution_count": 39,
   "metadata": {},
   "outputs": [
    {
     "output_type": "execute_result",
     "data": {
      "text/plain": [
       "array([ 0.,  0.,  5., 13.,  9.,  1.,  0.,  0.,  0.,  0., 13., 15., 10.,\n",
       "       15.,  5.,  0.,  0.,  3., 15.,  2.,  0., 11.,  8.,  0.,  0.,  4.,\n",
       "       12.,  0.,  0.,  8.,  8.,  0.,  0.,  5.,  8.,  0.,  0.,  9.,  8.,\n",
       "        0.,  0.,  4., 11.,  0.,  1., 12.,  7.,  0.,  0.,  2., 14.,  5.,\n",
       "       10., 12.,  0.,  0.,  0.,  0.,  6., 13., 10.,  0.,  0.,  0.])"
      ]
     },
     "metadata": {},
     "execution_count": 39
    }
   ],
   "source": [
    "digits.data[0]"
   ]
  },
  {
   "cell_type": "code",
   "execution_count": 4,
   "metadata": {},
   "outputs": [
    {
     "output_type": "display_data",
     "data": {
      "text/plain": "<Figure size 720x216 with 4 Axes>",
      "image/svg+xml": "<?xml version=\"1.0\" encoding=\"utf-8\" standalone=\"no\"?>\r\n<!DOCTYPE svg PUBLIC \"-//W3C//DTD SVG 1.1//EN\"\r\n  \"http://www.w3.org/Graphics/SVG/1.1/DTD/svg11.dtd\">\r\n<!-- Created with matplotlib (https://matplotlib.org/) -->\r\n<svg height=\"150.822473pt\" version=\"1.1\" viewBox=\"0 0 572.4 150.822473\" width=\"572.4pt\" xmlns=\"http://www.w3.org/2000/svg\" xmlns:xlink=\"http://www.w3.org/1999/xlink\">\r\n <defs>\r\n  <style type=\"text/css\">\r\n*{stroke-linecap:butt;stroke-linejoin:round;}\r\n  </style>\r\n </defs>\r\n <g id=\"figure_1\">\r\n  <g id=\"patch_1\">\r\n   <path d=\"M 0 150.822473 \r\nL 572.4 150.822473 \r\nL 572.4 0 \r\nL 0 0 \r\nz\r\n\" style=\"fill:none;\"/>\r\n  </g>\r\n  <g id=\"axes_1\">\r\n   <g clip-path=\"url(#pd8bd6acab9)\">\r\n    <image height=\"122\" id=\"imagead460c29f1\" transform=\"scale(1 -1)translate(0 -122)\" width=\"122\" x=\"7.2\" xlink:href=\"data:image/png;base64,\r\niVBORw0KGgoAAAANSUhEUgAAAHoAAAB6CAYAAABwWUfkAAAABHNCSVQICAgIfAhkiAAAAhNJREFUeJzt3VFxwkAYReGlUwNIACQECVjAAhZigVhAAkgIFsABSAAJqYf/znQfzvne76TtmX3aSbNalmVpHVwul2h/Pp/L2/1+X95er9fytqef3j+A/oehIQwNYWgIQ0MYGsLQEIaGMDSEoSEMDWFoCENDGBpilVxTvt/v8oOHYShvW8uuOW+3W3n7er3K28fjUd6mPNEQhoYwNIShIQwNYWgIQ0MYGsLQEIaGMDSEoSEMDWFoCEND/Cbj5D46eXW1tdaOx2N5ezgcumynaSpvW2ttHMfy1hMNYWgIQ0MYGsLQEIaGMDSEoSEMDWFoCENDGBrC0BCGhoiuKb/fb3mbvjabWK/X5W1yvZr8vVKeaAhDQxgawtAQhoYwNIShIQwNYWgIQ0MYGsLQEIaGMDREdE2ZXPfN85w8OvoIaSL5nXvyREMYGsLQEIaGMDSEoSEMDWFoCENDGBrC0BCGhjA0hKEhul1TPp/P5NHRP5zdbrflbfIh0Z5vkHqiIQwNYWgIQ0MYGsLQEIaGMDSEoSEMDWFoCENDGBrC0BCGhojuo5P71c1mkzy67Xa78jb5gOn9fi9vT6dTeZvyREMYGsLQEIaGMDSEoSEMDWFoCENDGBrC0BCGhjA0hKEhomvKxDRN0X4cx/I2ed338/l0eW7KEw1haAhDQxgawtAQhoYwNIShIQwNYWgIQ0MYGsLQEIaG+AORakOMPC5D8AAAAABJRU5ErkJggg==\" y=\"-21.622473\"/>\r\n   </g>\r\n   <g id=\"text_1\">\r\n    <!-- Training: 0 -->\r\n    <defs>\r\n     <path d=\"M -0.296875 72.90625 \r\nL 61.375 72.90625 \r\nL 61.375 64.59375 \r\nL 35.5 64.59375 \r\nL 35.5 0 \r\nL 25.59375 0 \r\nL 25.59375 64.59375 \r\nL -0.296875 64.59375 \r\nz\r\n\" id=\"DejaVuSans-84\"/>\r\n     <path d=\"M 41.109375 46.296875 \r\nQ 39.59375 47.171875 37.8125 47.578125 \r\nQ 36.03125 48 33.890625 48 \r\nQ 26.265625 48 22.1875 43.046875 \r\nQ 18.109375 38.09375 18.109375 28.8125 \r\nL 18.109375 0 \r\nL 9.078125 0 \r\nL 9.078125 54.6875 \r\nL 18.109375 54.6875 \r\nL 18.109375 46.1875 \r\nQ 20.953125 51.171875 25.484375 53.578125 \r\nQ 30.03125 56 36.53125 56 \r\nQ 37.453125 56 38.578125 55.875 \r\nQ 39.703125 55.765625 41.0625 55.515625 \r\nz\r\n\" id=\"DejaVuSans-114\"/>\r\n     <path d=\"M 34.28125 27.484375 \r\nQ 23.390625 27.484375 19.1875 25 \r\nQ 14.984375 22.515625 14.984375 16.5 \r\nQ 14.984375 11.71875 18.140625 8.90625 \r\nQ 21.296875 6.109375 26.703125 6.109375 \r\nQ 34.1875 6.109375 38.703125 11.40625 \r\nQ 43.21875 16.703125 43.21875 25.484375 \r\nL 43.21875 27.484375 \r\nz\r\nM 52.203125 31.203125 \r\nL 52.203125 0 \r\nL 43.21875 0 \r\nL 43.21875 8.296875 \r\nQ 40.140625 3.328125 35.546875 0.953125 \r\nQ 30.953125 -1.421875 24.3125 -1.421875 \r\nQ 15.921875 -1.421875 10.953125 3.296875 \r\nQ 6 8.015625 6 15.921875 \r\nQ 6 25.140625 12.171875 29.828125 \r\nQ 18.359375 34.515625 30.609375 34.515625 \r\nL 43.21875 34.515625 \r\nL 43.21875 35.40625 \r\nQ 43.21875 41.609375 39.140625 45 \r\nQ 35.0625 48.390625 27.6875 48.390625 \r\nQ 23 48.390625 18.546875 47.265625 \r\nQ 14.109375 46.140625 10.015625 43.890625 \r\nL 10.015625 52.203125 \r\nQ 14.9375 54.109375 19.578125 55.046875 \r\nQ 24.21875 56 28.609375 56 \r\nQ 40.484375 56 46.34375 49.84375 \r\nQ 52.203125 43.703125 52.203125 31.203125 \r\nz\r\n\" id=\"DejaVuSans-97\"/>\r\n     <path d=\"M 9.421875 54.6875 \r\nL 18.40625 54.6875 \r\nL 18.40625 0 \r\nL 9.421875 0 \r\nz\r\nM 9.421875 75.984375 \r\nL 18.40625 75.984375 \r\nL 18.40625 64.59375 \r\nL 9.421875 64.59375 \r\nz\r\n\" id=\"DejaVuSans-105\"/>\r\n     <path d=\"M 54.890625 33.015625 \r\nL 54.890625 0 \r\nL 45.90625 0 \r\nL 45.90625 32.71875 \r\nQ 45.90625 40.484375 42.875 44.328125 \r\nQ 39.84375 48.1875 33.796875 48.1875 \r\nQ 26.515625 48.1875 22.3125 43.546875 \r\nQ 18.109375 38.921875 18.109375 30.90625 \r\nL 18.109375 0 \r\nL 9.078125 0 \r\nL 9.078125 54.6875 \r\nL 18.109375 54.6875 \r\nL 18.109375 46.1875 \r\nQ 21.34375 51.125 25.703125 53.5625 \r\nQ 30.078125 56 35.796875 56 \r\nQ 45.21875 56 50.046875 50.171875 \r\nQ 54.890625 44.34375 54.890625 33.015625 \r\nz\r\n\" id=\"DejaVuSans-110\"/>\r\n     <path d=\"M 45.40625 27.984375 \r\nQ 45.40625 37.75 41.375 43.109375 \r\nQ 37.359375 48.484375 30.078125 48.484375 \r\nQ 22.859375 48.484375 18.828125 43.109375 \r\nQ 14.796875 37.75 14.796875 27.984375 \r\nQ 14.796875 18.265625 18.828125 12.890625 \r\nQ 22.859375 7.515625 30.078125 7.515625 \r\nQ 37.359375 7.515625 41.375 12.890625 \r\nQ 45.40625 18.265625 45.40625 27.984375 \r\nz\r\nM 54.390625 6.78125 \r\nQ 54.390625 -7.171875 48.1875 -13.984375 \r\nQ 42 -20.796875 29.203125 -20.796875 \r\nQ 24.46875 -20.796875 20.265625 -20.09375 \r\nQ 16.0625 -19.390625 12.109375 -17.921875 \r\nL 12.109375 -9.1875 \r\nQ 16.0625 -11.328125 19.921875 -12.34375 \r\nQ 23.78125 -13.375 27.78125 -13.375 \r\nQ 36.625 -13.375 41.015625 -8.765625 \r\nQ 45.40625 -4.15625 45.40625 5.171875 \r\nL 45.40625 9.625 \r\nQ 42.625 4.78125 38.28125 2.390625 \r\nQ 33.9375 0 27.875 0 \r\nQ 17.828125 0 11.671875 7.65625 \r\nQ 5.515625 15.328125 5.515625 27.984375 \r\nQ 5.515625 40.671875 11.671875 48.328125 \r\nQ 17.828125 56 27.875 56 \r\nQ 33.9375 56 38.28125 53.609375 \r\nQ 42.625 51.21875 45.40625 46.390625 \r\nL 45.40625 54.6875 \r\nL 54.390625 54.6875 \r\nz\r\n\" id=\"DejaVuSans-103\"/>\r\n     <path d=\"M 11.71875 12.40625 \r\nL 22.015625 12.40625 \r\nL 22.015625 0 \r\nL 11.71875 0 \r\nz\r\nM 11.71875 51.703125 \r\nL 22.015625 51.703125 \r\nL 22.015625 39.3125 \r\nL 11.71875 39.3125 \r\nz\r\n\" id=\"DejaVuSans-58\"/>\r\n     <path id=\"DejaVuSans-32\"/>\r\n     <path d=\"M 31.78125 66.40625 \r\nQ 24.171875 66.40625 20.328125 58.90625 \r\nQ 16.5 51.421875 16.5 36.375 \r\nQ 16.5 21.390625 20.328125 13.890625 \r\nQ 24.171875 6.390625 31.78125 6.390625 \r\nQ 39.453125 6.390625 43.28125 13.890625 \r\nQ 47.125 21.390625 47.125 36.375 \r\nQ 47.125 51.421875 43.28125 58.90625 \r\nQ 39.453125 66.40625 31.78125 66.40625 \r\nz\r\nM 31.78125 74.21875 \r\nQ 44.046875 74.21875 50.515625 64.515625 \r\nQ 56.984375 54.828125 56.984375 36.375 \r\nQ 56.984375 17.96875 50.515625 8.265625 \r\nQ 44.046875 -1.421875 31.78125 -1.421875 \r\nQ 19.53125 -1.421875 13.0625 8.265625 \r\nQ 6.59375 17.96875 6.59375 36.375 \r\nQ 6.59375 54.828125 13.0625 64.515625 \r\nQ 19.53125 74.21875 31.78125 74.21875 \r\nz\r\n\" id=\"DejaVuSans-48\"/>\r\n    </defs>\r\n    <g transform=\"translate(36.435611 16.318125)scale(0.12 -0.12)\">\r\n     <use xlink:href=\"#DejaVuSans-84\"/>\r\n     <use x=\"46.333984\" xlink:href=\"#DejaVuSans-114\"/>\r\n     <use x=\"87.447266\" xlink:href=\"#DejaVuSans-97\"/>\r\n     <use x=\"148.726562\" xlink:href=\"#DejaVuSans-105\"/>\r\n     <use x=\"176.509766\" xlink:href=\"#DejaVuSans-110\"/>\r\n     <use x=\"239.888672\" xlink:href=\"#DejaVuSans-105\"/>\r\n     <use x=\"267.671875\" xlink:href=\"#DejaVuSans-110\"/>\r\n     <use x=\"331.050781\" xlink:href=\"#DejaVuSans-103\"/>\r\n     <use x=\"394.527344\" xlink:href=\"#DejaVuSans-58\"/>\r\n     <use x=\"428.21875\" xlink:href=\"#DejaVuSans-32\"/>\r\n     <use x=\"460.005859\" xlink:href=\"#DejaVuSans-48\"/>\r\n    </g>\r\n   </g>\r\n  </g>\r\n  <g id=\"axes_2\">\r\n   <g clip-path=\"url(#p27ce67a3c9)\">\r\n    <image height=\"122\" id=\"image3edbd919e9\" transform=\"scale(1 -1)translate(0 -122)\" width=\"122\" x=\"152.765217\" xlink:href=\"data:image/png;base64,\r\niVBORw0KGgoAAAANSUhEUgAAAHoAAAB6CAYAAABwWUfkAAAABHNCSVQICAgIfAhkiAAAAcxJREFUeJzt3VGt4kAAhtG9mysAJyABHOAApCABB2ChTpACCroeZpJtyHfO+59p8mWeGsrPuq7rny90Pp+Ht8uyDG8vl8vw9vl8Dm9n/d3sZP4roSOEjhA6QugIoSOEjhA6QugIoSOEjhA6QugIoSN+tzr4/X5P7WdeNc44Ho+bnDvLjY4QOkLoCKEjhI4QOkLoCKEjhI4QOkLoCKEjhI4QOkLoCKEjhI4QOkLoCKEjhI4QOkLoCKEjhI4QOkLoCKEjhI4QOmKzn81+q8PhsPUjDHGjI4SOEDpC6AihI4SOEDpC6AihI4SOEDpC6AihI4SOmHpNeb/fh7e3223m6M3sdrutH2GIGx0hdITQEUJHCB0hdITQEUJHCB0hdITQEUJHCB0hdMTPuq7rFge/Xq+p/cyfgX4+n+Ht4/EY3l6v1+HtLDc6QugIoSOEjhA6QugIoSOEjhA6QugIoSOEjhA6QugIoSM2+7rv7FdyZ95HL8syvJ19j74VNzpC6AihI4SOEDpC6AihI4SOEDpC6AihI4SOEDpC6Iiv/RPS9/s9vN3v98Pb0+k0vN2SGx0hdITQEUJHCB0hdITQEUJHCB0hdITQEUJHCB0hdMQ/0bwre9ao7VkAAAAASUVORK5CYII=\" y=\"-21.622473\"/>\r\n   </g>\r\n   <g id=\"text_2\">\r\n    <!-- Training: 1 -->\r\n    <defs>\r\n     <path d=\"M 12.40625 8.296875 \r\nL 28.515625 8.296875 \r\nL 28.515625 63.921875 \r\nL 10.984375 60.40625 \r\nL 10.984375 69.390625 \r\nL 28.421875 72.90625 \r\nL 38.28125 72.90625 \r\nL 38.28125 8.296875 \r\nL 54.390625 8.296875 \r\nL 54.390625 0 \r\nL 12.40625 0 \r\nz\r\n\" id=\"DejaVuSans-49\"/>\r\n    </defs>\r\n    <g transform=\"translate(182.000829 16.318125)scale(0.12 -0.12)\">\r\n     <use xlink:href=\"#DejaVuSans-84\"/>\r\n     <use x=\"46.333984\" xlink:href=\"#DejaVuSans-114\"/>\r\n     <use x=\"87.447266\" xlink:href=\"#DejaVuSans-97\"/>\r\n     <use x=\"148.726562\" xlink:href=\"#DejaVuSans-105\"/>\r\n     <use x=\"176.509766\" xlink:href=\"#DejaVuSans-110\"/>\r\n     <use x=\"239.888672\" xlink:href=\"#DejaVuSans-105\"/>\r\n     <use x=\"267.671875\" xlink:href=\"#DejaVuSans-110\"/>\r\n     <use x=\"331.050781\" xlink:href=\"#DejaVuSans-103\"/>\r\n     <use x=\"394.527344\" xlink:href=\"#DejaVuSans-58\"/>\r\n     <use x=\"428.21875\" xlink:href=\"#DejaVuSans-32\"/>\r\n     <use x=\"460.005859\" xlink:href=\"#DejaVuSans-49\"/>\r\n    </g>\r\n   </g>\r\n  </g>\r\n  <g id=\"axes_3\">\r\n   <g clip-path=\"url(#p89fd64748e)\">\r\n    <image height=\"122\" id=\"imageba221fd727\" transform=\"scale(1 -1)translate(0 -122)\" width=\"122\" x=\"298.330435\" xlink:href=\"data:image/png;base64,\r\niVBORw0KGgoAAAANSUhEUgAAAHoAAAB6CAYAAABwWUfkAAAABHNCSVQICAgIfAhkiAAAAhBJREFUeJzt3EGNwlAURuHLhD1IQAI4AAVFAg5AQnGABCSAAiy0DiqhDjoa5t5JXsg53/5PG07e6oWulmVZ4gsNw5De9n2f3r7f7/T2er2mtxERj8cjvf0pPVlfw9AQhoYwNIShIQwNYWgIQ0MYGsLQEIaGMDSEoSEMDbGujCtXhZfLpfLoGMextM/qui69PZ1O//gmf+OJhjA0hKEhDA1haAhDQxgawtAQhoYwNIShIQwNYWgIQ0MYGqJ0H/18PtPbVvfJERGv1yu9rdxHt+SJhjA0hKEhDA1haAhDQxgawtAQhoYwNIShIQwNYWgIQ0OsKl/3nec5/eDKl2ojaleN0zQ12W632/S2yhMNYWgIQ0MYGsLQEIaGMDSEoSEMDWFoCENDGBrC0BCGhihdU1ZUrjgjateUt9stvT0ej+lt5Z2rPNEQhoYwNIShIQwNYWgIQ0MYGsLQEIaGMDSEoSEMDWFoiGbXlH3fl/aVK7/z+Zze3u/39LbRTx0RnmgMQ0MYGsLQEIaGMDSEoSEMDWFoCENDGBrC0BCGhjA0hKEhmt1HD8NQ2h8Oh/R2s9mkt5Uv9Fa+DFzliYYwNIShIQwNYWgIQ0MYGsLQEIaGMDSEoSEMDWFoCENDrFs9eL/fl/afzye9rfxtdrfbpbcteaIhDA1haAhDQxgawtAQhoYwNIShIQwNYWgIQ0MYGsLQEL+ySlUCCRzY9AAAAABJRU5ErkJggg==\" y=\"-21.622473\"/>\r\n   </g>\r\n   <g id=\"text_3\">\r\n    <!-- Training: 2 -->\r\n    <defs>\r\n     <path d=\"M 19.1875 8.296875 \r\nL 53.609375 8.296875 \r\nL 53.609375 0 \r\nL 7.328125 0 \r\nL 7.328125 8.296875 \r\nQ 12.9375 14.109375 22.625 23.890625 \r\nQ 32.328125 33.6875 34.8125 36.53125 \r\nQ 39.546875 41.84375 41.421875 45.53125 \r\nQ 43.3125 49.21875 43.3125 52.78125 \r\nQ 43.3125 58.59375 39.234375 62.25 \r\nQ 35.15625 65.921875 28.609375 65.921875 \r\nQ 23.96875 65.921875 18.8125 64.3125 \r\nQ 13.671875 62.703125 7.8125 59.421875 \r\nL 7.8125 69.390625 \r\nQ 13.765625 71.78125 18.9375 73 \r\nQ 24.125 74.21875 28.421875 74.21875 \r\nQ 39.75 74.21875 46.484375 68.546875 \r\nQ 53.21875 62.890625 53.21875 53.421875 \r\nQ 53.21875 48.921875 51.53125 44.890625 \r\nQ 49.859375 40.875 45.40625 35.40625 \r\nQ 44.1875 33.984375 37.640625 27.21875 \r\nQ 31.109375 20.453125 19.1875 8.296875 \r\nz\r\n\" id=\"DejaVuSans-50\"/>\r\n    </defs>\r\n    <g transform=\"translate(327.566046 16.318125)scale(0.12 -0.12)\">\r\n     <use xlink:href=\"#DejaVuSans-84\"/>\r\n     <use x=\"46.333984\" xlink:href=\"#DejaVuSans-114\"/>\r\n     <use x=\"87.447266\" xlink:href=\"#DejaVuSans-97\"/>\r\n     <use x=\"148.726562\" xlink:href=\"#DejaVuSans-105\"/>\r\n     <use x=\"176.509766\" xlink:href=\"#DejaVuSans-110\"/>\r\n     <use x=\"239.888672\" xlink:href=\"#DejaVuSans-105\"/>\r\n     <use x=\"267.671875\" xlink:href=\"#DejaVuSans-110\"/>\r\n     <use x=\"331.050781\" xlink:href=\"#DejaVuSans-103\"/>\r\n     <use x=\"394.527344\" xlink:href=\"#DejaVuSans-58\"/>\r\n     <use x=\"428.21875\" xlink:href=\"#DejaVuSans-32\"/>\r\n     <use x=\"460.005859\" xlink:href=\"#DejaVuSans-50\"/>\r\n    </g>\r\n   </g>\r\n  </g>\r\n  <g id=\"axes_4\">\r\n   <g clip-path=\"url(#p0ce17b2efa)\">\r\n    <image height=\"122\" id=\"image2a8414904c\" transform=\"scale(1 -1)translate(0 -122)\" width=\"122\" x=\"443.895652\" xlink:href=\"data:image/png;base64,\r\niVBORw0KGgoAAAANSUhEUgAAAHoAAAB6CAYAAABwWUfkAAAABHNCSVQICAgIfAhkiAAAAf1JREFUeJzt3EGNhEAQQNGezRhAAkECFsAKWEACSAAJaMAKWEACa2G3a3b78P+7V5rkp0+V5vU8z5MKWJYlNL+u64e+5Hf6vs+eLfXNKaX0Vexk/StDQxgawtAQhoYwNIShIQwNYWgIQ0MYGsLQEIaGMDTEu9TB932H5rdtK3L2MAzZs1GRNac3GsLQEIaGMDSEoSEMDWFoCENDGBrC0BCGhjA0hKEhDA1haIhi++h5nksdHdpHR57NVlWVPRvljYYwNIShIQwNYWgIQ0MYGsLQEIaGMDSEoSEMDWFoCENDvEr93Tcqsmrsuu6DX/Jzx3GE5iNrTm80hKEhDA1haAhDQxgawtAQhoYwNIShIQwNYWgIQ0MYGqLYa8rrukLzTdNkz0bWlPu+Z8/6mlJ/ztAQhoYwNIShIQwNYWgIQ0MYGsLQEIaGMDSEoSEMDRFaU0ZWjdGVXV3X2bPneWbPllw1RnijIQwNYWgIQ0MYGsLQEIaGMDSEoSEMDWFoCENDGBrC0BCGhgjto7dty56NPD9NKaVpmrJnx3HMno38obfUX4VT8kZjGBrC0BCGhjA0hKEhDA1haAhDQxgawtAQhoYwNIShIUJrynmes2ejz08jq8bIk9u2bbNnS/JGQxgawtAQhoYwNIShIQwNYWgIQ0MYGsLQEIaGMDSEoSG+ASOfPiJhguqyAAAAAElFTkSuQmCC\" y=\"-21.622473\"/>\r\n   </g>\r\n   <g id=\"text_4\">\r\n    <!-- Training: 3 -->\r\n    <defs>\r\n     <path d=\"M 40.578125 39.3125 \r\nQ 47.65625 37.796875 51.625 33 \r\nQ 55.609375 28.21875 55.609375 21.1875 \r\nQ 55.609375 10.40625 48.1875 4.484375 \r\nQ 40.765625 -1.421875 27.09375 -1.421875 \r\nQ 22.515625 -1.421875 17.65625 -0.515625 \r\nQ 12.796875 0.390625 7.625 2.203125 \r\nL 7.625 11.71875 \r\nQ 11.71875 9.328125 16.59375 8.109375 \r\nQ 21.484375 6.890625 26.8125 6.890625 \r\nQ 36.078125 6.890625 40.9375 10.546875 \r\nQ 45.796875 14.203125 45.796875 21.1875 \r\nQ 45.796875 27.640625 41.28125 31.265625 \r\nQ 36.765625 34.90625 28.71875 34.90625 \r\nL 20.21875 34.90625 \r\nL 20.21875 43.015625 \r\nL 29.109375 43.015625 \r\nQ 36.375 43.015625 40.234375 45.921875 \r\nQ 44.09375 48.828125 44.09375 54.296875 \r\nQ 44.09375 59.90625 40.109375 62.90625 \r\nQ 36.140625 65.921875 28.71875 65.921875 \r\nQ 24.65625 65.921875 20.015625 65.03125 \r\nQ 15.375 64.15625 9.8125 62.3125 \r\nL 9.8125 71.09375 \r\nQ 15.4375 72.65625 20.34375 73.4375 \r\nQ 25.25 74.21875 29.59375 74.21875 \r\nQ 40.828125 74.21875 47.359375 69.109375 \r\nQ 53.90625 64.015625 53.90625 55.328125 \r\nQ 53.90625 49.265625 50.4375 45.09375 \r\nQ 46.96875 40.921875 40.578125 39.3125 \r\nz\r\n\" id=\"DejaVuSans-51\"/>\r\n    </defs>\r\n    <g transform=\"translate(473.131264 16.318125)scale(0.12 -0.12)\">\r\n     <use xlink:href=\"#DejaVuSans-84\"/>\r\n     <use x=\"46.333984\" xlink:href=\"#DejaVuSans-114\"/>\r\n     <use x=\"87.447266\" xlink:href=\"#DejaVuSans-97\"/>\r\n     <use x=\"148.726562\" xlink:href=\"#DejaVuSans-105\"/>\r\n     <use x=\"176.509766\" xlink:href=\"#DejaVuSans-110\"/>\r\n     <use x=\"239.888672\" xlink:href=\"#DejaVuSans-105\"/>\r\n     <use x=\"267.671875\" xlink:href=\"#DejaVuSans-110\"/>\r\n     <use x=\"331.050781\" xlink:href=\"#DejaVuSans-103\"/>\r\n     <use x=\"394.527344\" xlink:href=\"#DejaVuSans-58\"/>\r\n     <use x=\"428.21875\" xlink:href=\"#DejaVuSans-32\"/>\r\n     <use x=\"460.005859\" xlink:href=\"#DejaVuSans-51\"/>\r\n    </g>\r\n   </g>\r\n  </g>\r\n </g>\r\n <defs>\r\n  <clipPath id=\"pd8bd6acab9\">\r\n   <rect height=\"121.304348\" width=\"121.304348\" x=\"7.2\" y=\"22.318125\"/>\r\n  </clipPath>\r\n  <clipPath id=\"p27ce67a3c9\">\r\n   <rect height=\"121.304348\" width=\"121.304348\" x=\"152.765217\" y=\"22.318125\"/>\r\n  </clipPath>\r\n  <clipPath id=\"p89fd64748e\">\r\n   <rect height=\"121.304348\" width=\"121.304348\" x=\"298.330435\" y=\"22.318125\"/>\r\n  </clipPath>\r\n  <clipPath id=\"p0ce17b2efa\">\r\n   <rect height=\"121.304348\" width=\"121.304348\" x=\"443.895652\" y=\"22.318125\"/>\r\n  </clipPath>\r\n </defs>\r\n</svg>\r\n",
      "image/png": "[encoded data removed]"
     },
     "metadata": {
      "needs_background": "light"
     }
    }
   ],
   "source": [
    "_, axes = plt.subplots(nrows=1, ncols=4, figsize=(10, 3))\n",
    "for ax, image, label in zip(axes, digits.images, digits.target):\n",
    "    ax.set_axis_off()\n",
    "    ax.imshow(image, cmap=plt.cm.gray_r, interpolation='nearest')\n",
    "    ax.set_title('Training: %i' % label)"
   ]
  },
  {
   "cell_type": "code",
   "execution_count": 6,
   "metadata": {},
   "outputs": [],
   "source": [
    "# flatten images\n",
    "n_samples = len(digits.images)\n",
    "data = digits.images.reshape((n_samples, -1))"
   ]
  },
  {
   "cell_type": "code",
   "execution_count": 13,
   "metadata": {},
   "outputs": [],
   "source": [
    "# divide data into test and train\n",
    "x_train, x_test, y_train, y_test = train_test_split(data,digits.target, test_size=0.2)"
   ]
  },
  {
   "cell_type": "code",
   "execution_count": 27,
   "metadata": {},
   "outputs": [
    {
     "output_type": "stream",
     "name": "stdout",
     "text": [
      "The accuracy of this model is: \n96.67%\n"
     ]
    }
   ],
   "source": [
    "# declare, train, and test random forest classifier\n",
    "rfc = RandomForestClassifier()\n",
    "rfc.fit(x_train, y_train)\n",
    "predict = rfc.predict(x_test)\n",
    "print(\"The accuracy of this model is: \") \n",
    "print(str((rfc.score(x_test, y_test)*100).round(2)) + \"%\")"
   ]
  },
  {
   "cell_type": "code",
   "execution_count": 29,
   "metadata": {},
   "outputs": [
    {
     "output_type": "stream",
     "name": "stdout",
     "text": [
      "The accuracy of this model is: \n96.11%\n"
     ]
    }
   ],
   "source": [
    "# declare, train, and test neural network classifier\n",
    "nnc = MLPClassifier()\n",
    "nnc.fit(x_train, y_train)\n",
    "print(\"The accuracy of this model is: \") \n",
    "print(str((nnc.score(x_test, y_test)*100).round(2)) + \"%\")"
   ]
  },
  {
   "cell_type": "code",
   "execution_count": 40,
   "metadata": {},
   "outputs": [
    {
     "output_type": "stream",
     "name": "stdout",
     "text": [
      "[40 24  1 17 14  1 19 27 33 11  1 20  6  1 21 28 35 18  5  1  1  1 16 29\n 34 12  1  1  1  1  1 32 39  1  1  9  1  3  1 38 36 15  1  1  1  2  8 30\n 31 23  4  1  7  1  1 25 37 26  1 13  1  1 10 22]\nThe accuracy of this model is: \n96.39%\n"
     ]
    }
   ],
   "source": [
    "# declare random forest classifier using 25 most important features in recursive feature selection\n",
    "estimator = RandomForestClassifier()\n",
    "rfe = RFE(estimator=RandomForestClassifier(), n_features_to_select=25)\n",
    "fit = rfe.fit(x_train, y_train)\n",
    "# ranking = rfe.ranking_.reshape(digits.images[0].shape)\n",
    "ranking = fit.ranking_\n",
    "print(ranking)\n",
    "print(\"The accuracy of this model is: \") \n",
    "print(str((rfe.score(x_test, y_test)*100).round(2)) + \"%\")"
   ]
  },
  {
   "cell_type": "code",
   "execution_count": 32,
   "metadata": {},
   "outputs": [
    {
     "output_type": "stream",
     "name": "stdout",
     "text": [
      "The accuracy of this model is: \n92.5%\n"
     ]
    }
   ],
   "source": [
    "# declare random forest classifier using 8 most important features in recursive feature selection\n",
    "estimator = RandomForestClassifier()\n",
    "rfe = RFE(estimator=RandomForestClassifier(), n_features_to_select=8)\n",
    "rfe.fit(x_train, y_train)\n",
    "\n",
    "print(\"The accuracy of this model is: \") \n",
    "print(str((rfe.score(x_test, y_test)*100).round(2)) + \"%\")"
   ]
  },
  {
   "cell_type": "code",
   "execution_count": 41,
   "metadata": {},
   "outputs": [
    {
     "output_type": "stream",
     "name": "stdout",
     "text": [
      "[60 44 15 34 37 18 35 48 51 32  1 40 29 10 41 47 54 38 24  9  4  1 39 49\n 52 30  2 13  8 19  7 57 59  6 16 28  1 27 12 56 55 36  1  3 20 22 23 50\n 53 42 26 17 31 21 11 46 58 45  5 33 14  1 25 43]\nThe accuracy of this model is: \n73.61%\n"
     ]
    }
   ],
   "source": [
    "# declare random forest classifier using 25 most important features in recursive feature selection\n",
    "estimator = RandomForestClassifier()\n",
    "rfe = RFE(estimator=RandomForestClassifier(), n_features_to_select=5)\n",
    "fit = rfe.fit(x_train, y_train)\n",
    "# ranking = rfe.ranking_.reshape(digits.images[0].shape)\n",
    "ranking = fit.ranking_\n",
    "print(ranking)\n",
    "print(\"The accuracy of this model is: \") \n",
    "print(str((rfe.score(x_test, y_test)*100).round(2)) + \"%\")"
   ]
  },
  {
   "cell_type": "code",
   "execution_count": null,
   "metadata": {},
   "outputs": [],
   "source": [
    "# 11, 22, 37, 43, 62\n",
    "# 31, "
   ]
  },
  {
   "cell_type": "code",
   "execution_count": 44,
   "metadata": {},
   "outputs": [
    {
     "output_type": "execute_result",
     "data": {
      "text/plain": [
       "(8, 8)"
      ]
     },
     "metadata": {},
     "execution_count": 44
    }
   ],
   "source": [
    "digits.images[0].shape"
   ]
  },
  {
   "cell_type": "code",
   "execution_count": null,
   "metadata": {},
   "outputs": [],
   "source": []
  }
 ]
}